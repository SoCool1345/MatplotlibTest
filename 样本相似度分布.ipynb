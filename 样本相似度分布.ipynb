{
 "cells": [
  {
   "cell_type": "code",
   "execution_count": null,
   "metadata": {
    "collapsed": true
   },
   "outputs": [],
   "source": [
    "import pandas as pd\n",
    "import numpy as np\n",
    "import matplotlib.pyplot as plt"
   ]
  },
  {
   "cell_type": "code",
   "execution_count": null,
   "outputs": [],
   "source": [
    "#将一个大区间根据分组坐标分成若干个小区间，将组坐标作为元素存入列表（从小到大排序）\n",
    "#list_GROUPX2 为组坐标列表，list_temp_value为数据，判断数据落入哪个小区间中，最终返回元素为各区间频数的列表\n",
    "\n",
    "def frequency_calculate(list_GROUPX2,list_temp_value):\n",
    "    list_zbqj = [] #组坐标区间\n",
    "    for i in range(len(list_GROUPX2)):\n",
    "        if i == 0:\n",
    "            a = pd.Interval(left = float('-inf'), right = list_GROUPX2[i])\n",
    "            list_zbqj.append(a)\n",
    "        elif i == (len(list_GROUPX2)-1):\n",
    "            b = pd.Interval(left = list_GROUPX2[i-1], right = float('inf'),closed = 'neither')\n",
    "            list_zbqj.append(b)\n",
    "        else:\n",
    "            c = pd.Interval(left = list_GROUPX2[i-1], right = list_GROUPX2[i])\n",
    "            list_zbqj.append(c)\n",
    "    list_ps = [] #计算频数\n",
    "    for i in list_zbqj:\n",
    "        CNT = 0\n",
    "        for j in list_temp_value:\n",
    "            if j > i.left:\n",
    "                if j <= i.right:\n",
    "                    CNT += 1\n",
    "        list_ps.append(CNT)\n",
    "    return list_ps\n"
   ],
   "metadata": {
    "collapsed": false,
    "pycharm": {
     "name": "#%%\n"
    }
   }
  },
  {
   "cell_type": "code",
   "execution_count": null,
   "outputs": [],
   "source": [
    "list_group = [0,1,2,3,5]\n",
    "list_val = np.random.randint(0,5,50)\n",
    "list_ps = frequency_calculate(list_group,list_val)\n",
    "plt.bar(list_group,list_ps,facecolor='#9999ff',edgecolor='white')\n",
    "\n"
   ],
   "metadata": {
    "collapsed": false,
    "pycharm": {
     "name": "#%%\n"
    }
   }
  }
 ],
 "metadata": {
  "kernelspec": {
   "display_name": "Python 3",
   "language": "python",
   "name": "python3"
  },
  "language_info": {
   "codemirror_mode": {
    "name": "ipython",
    "version": 2
   },
   "file_extension": ".py",
   "mimetype": "text/x-python",
   "name": "python",
   "nbconvert_exporter": "python",
   "pygments_lexer": "ipython2",
   "version": "2.7.6"
  }
 },
 "nbformat": 4,
 "nbformat_minor": 0
}