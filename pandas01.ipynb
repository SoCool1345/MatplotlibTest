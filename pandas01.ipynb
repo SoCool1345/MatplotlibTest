{
 "cells": [
  {
   "cell_type": "code",
   "execution_count": 145,
   "metadata": {
    "collapsed": true
   },
   "outputs": [],
   "source": [
    "import pandas as pd\n",
    "import numpy as np\n",
    "import matplotlib.pyplot as plt"
   ]
  },
  {
   "cell_type": "code",
   "execution_count": 11,
   "outputs": [
    {
     "data": {
      "text/plain": "0     1.0\n1     2.0\n2    45.0\n3     6.0\n4     NaN\n5     4.0\n6     1.0\ndtype: float64"
     },
     "execution_count": 11,
     "metadata": {},
     "output_type": "execute_result"
    }
   ],
   "source": [
    "s = pd.Series([1,2,45,6,np.nan,4,1])\n",
    "s"
   ],
   "metadata": {
    "collapsed": false,
    "pycharm": {
     "name": "#%%\n"
    }
   }
  },
  {
   "cell_type": "code",
   "execution_count": 8,
   "outputs": [
    {
     "data": {
      "text/plain": "DatetimeIndex(['2016-01-01', '2016-01-02', '2016-01-03', '2016-01-04',\n               '2016-01-05', '2016-01-06'],\n              dtype='datetime64[ns]', freq='D')"
     },
     "execution_count": 8,
     "metadata": {},
     "output_type": "execute_result"
    }
   ],
   "source": [
    "dates = pd.date_range('20160101',periods=6)\n",
    "dates"
   ],
   "metadata": {
    "collapsed": false,
    "pycharm": {
     "name": "#%%\n"
    }
   }
  },
  {
   "cell_type": "code",
   "execution_count": 68,
   "outputs": [
    {
     "data": {
      "text/plain": "                   a         b         c         d\n2016-01-01  1.496047 -1.383393 -0.828971 -0.755094\n2016-01-02  1.739370 -0.886539 -0.812361  0.952182\n2016-01-03  1.839562 -2.186996 -1.842613  1.338052\n2016-01-04 -0.082209  0.268925  1.963780  0.080862\n2016-01-05  2.221223  2.748331 -0.629237 -1.173126\n2016-01-06 -0.954297 -1.464921  0.255387  0.099518",
      "text/html": "<div>\n<style scoped>\n    .dataframe tbody tr th:only-of-type {\n        vertical-align: middle;\n    }\n\n    .dataframe tbody tr th {\n        vertical-align: top;\n    }\n\n    .dataframe thead th {\n        text-align: right;\n    }\n</style>\n<table border=\"1\" class=\"dataframe\">\n  <thead>\n    <tr style=\"text-align: right;\">\n      <th></th>\n      <th>a</th>\n      <th>b</th>\n      <th>c</th>\n      <th>d</th>\n    </tr>\n  </thead>\n  <tbody>\n    <tr>\n      <th>2016-01-01</th>\n      <td>1.496047</td>\n      <td>-1.383393</td>\n      <td>-0.828971</td>\n      <td>-0.755094</td>\n    </tr>\n    <tr>\n      <th>2016-01-02</th>\n      <td>1.739370</td>\n      <td>-0.886539</td>\n      <td>-0.812361</td>\n      <td>0.952182</td>\n    </tr>\n    <tr>\n      <th>2016-01-03</th>\n      <td>1.839562</td>\n      <td>-2.186996</td>\n      <td>-1.842613</td>\n      <td>1.338052</td>\n    </tr>\n    <tr>\n      <th>2016-01-04</th>\n      <td>-0.082209</td>\n      <td>0.268925</td>\n      <td>1.963780</td>\n      <td>0.080862</td>\n    </tr>\n    <tr>\n      <th>2016-01-05</th>\n      <td>2.221223</td>\n      <td>2.748331</td>\n      <td>-0.629237</td>\n      <td>-1.173126</td>\n    </tr>\n    <tr>\n      <th>2016-01-06</th>\n      <td>-0.954297</td>\n      <td>-1.464921</td>\n      <td>0.255387</td>\n      <td>0.099518</td>\n    </tr>\n  </tbody>\n</table>\n</div>"
     },
     "execution_count": 68,
     "metadata": {},
     "output_type": "execute_result"
    }
   ],
   "source": [
    "df = pd.DataFrame(np.random.randn(6,4),index=dates,columns=['a','b','c','d'])\n",
    "df"
   ],
   "metadata": {
    "collapsed": false,
    "pycharm": {
     "name": "#%%\n"
    }
   }
  },
  {
   "cell_type": "code",
   "execution_count": 14,
   "outputs": [
    {
     "data": {
      "text/plain": "   0  1   2   3\n0  0  1   2   3\n1  4  5   6   7\n2  8  9  10  11",
      "text/html": "<div>\n<style scoped>\n    .dataframe tbody tr th:only-of-type {\n        vertical-align: middle;\n    }\n\n    .dataframe tbody tr th {\n        vertical-align: top;\n    }\n\n    .dataframe thead th {\n        text-align: right;\n    }\n</style>\n<table border=\"1\" class=\"dataframe\">\n  <thead>\n    <tr style=\"text-align: right;\">\n      <th></th>\n      <th>0</th>\n      <th>1</th>\n      <th>2</th>\n      <th>3</th>\n    </tr>\n  </thead>\n  <tbody>\n    <tr>\n      <th>0</th>\n      <td>0</td>\n      <td>1</td>\n      <td>2</td>\n      <td>3</td>\n    </tr>\n    <tr>\n      <th>1</th>\n      <td>4</td>\n      <td>5</td>\n      <td>6</td>\n      <td>7</td>\n    </tr>\n    <tr>\n      <th>2</th>\n      <td>8</td>\n      <td>9</td>\n      <td>10</td>\n      <td>11</td>\n    </tr>\n  </tbody>\n</table>\n</div>"
     },
     "execution_count": 14,
     "metadata": {},
     "output_type": "execute_result"
    }
   ],
   "source": [
    "df1 = pd.DataFrame(np.arange(12).reshape(3,4))\n",
    "df1"
   ],
   "metadata": {
    "collapsed": false,
    "pycharm": {
     "name": "#%%\n"
    }
   }
  },
  {
   "cell_type": "code",
   "execution_count": 17,
   "outputs": [
    {
     "data": {
      "text/plain": "     A          B  C      D\n0  1.0 2013-03-04  3     ds\n1  1.0 2013-03-04  3  trean\n2  1.0 2013-03-04  3    dfd",
      "text/html": "<div>\n<style scoped>\n    .dataframe tbody tr th:only-of-type {\n        vertical-align: middle;\n    }\n\n    .dataframe tbody tr th {\n        vertical-align: top;\n    }\n\n    .dataframe thead th {\n        text-align: right;\n    }\n</style>\n<table border=\"1\" class=\"dataframe\">\n  <thead>\n    <tr style=\"text-align: right;\">\n      <th></th>\n      <th>A</th>\n      <th>B</th>\n      <th>C</th>\n      <th>D</th>\n    </tr>\n  </thead>\n  <tbody>\n    <tr>\n      <th>0</th>\n      <td>1.0</td>\n      <td>2013-03-04</td>\n      <td>3</td>\n      <td>ds</td>\n    </tr>\n    <tr>\n      <th>1</th>\n      <td>1.0</td>\n      <td>2013-03-04</td>\n      <td>3</td>\n      <td>trean</td>\n    </tr>\n    <tr>\n      <th>2</th>\n      <td>1.0</td>\n      <td>2013-03-04</td>\n      <td>3</td>\n      <td>dfd</td>\n    </tr>\n  </tbody>\n</table>\n</div>"
     },
     "execution_count": 17,
     "metadata": {},
     "output_type": "execute_result"
    }
   ],
   "source": [
    "df2 = pd.DataFrame({'A':1.,'B':pd.Timestamp('20130304'),'C':np.array([3]*3,dtype='int32'),'D':pd.Categorical(['ds','trean','dfd'])})\n",
    "df2"
   ],
   "metadata": {
    "collapsed": false,
    "pycharm": {
     "name": "#%%\n"
    }
   }
  },
  {
   "cell_type": "code",
   "execution_count": 26,
   "outputs": [
    {
     "name": "stdout",
     "output_type": "stream",
     "text": [
      "A           float64\n",
      "B    datetime64[ns]\n",
      "C             int32\n",
      "D          category\n",
      "dtype: object\n",
      "Index(['A', 'B', 'C', 'D'], dtype='object')\n",
      "RangeIndex(start=0, stop=3, step=1)\n",
      "[[1.0 Timestamp('2013-03-04 00:00:00') 3 'ds']\n",
      " [1.0 Timestamp('2013-03-04 00:00:00') 3 'trean']\n",
      " [1.0 Timestamp('2013-03-04 00:00:00') 3 'dfd']]\n",
      "         A    C\n",
      "count  3.0  3.0\n",
      "mean   1.0  3.0\n",
      "std    0.0  0.0\n",
      "min    1.0  3.0\n",
      "25%    1.0  3.0\n",
      "50%    1.0  3.0\n",
      "75%    1.0  3.0\n",
      "max    1.0  3.0\n",
      "                     0                    1                    2\n",
      "A                  1.0                  1.0                  1.0\n",
      "B  2013-03-04 00:00:00  2013-03-04 00:00:00  2013-03-04 00:00:00\n",
      "C                    3                    3                    3\n",
      "D                   ds                trean                  dfd\n",
      "     A          B  C      D\n",
      "2  1.0 2013-03-04  3    dfd\n",
      "1  1.0 2013-03-04  3  trean\n",
      "0  1.0 2013-03-04  3     ds\n",
      "     A          B  C      D\n",
      "1  1.0 2013-03-04  3  trean\n",
      "0  1.0 2013-03-04  3     ds\n",
      "2  1.0 2013-03-04  3    dfd\n"
     ]
    }
   ],
   "source": [
    "print(df2.dtypes)\n",
    "print(df2.columns)\n",
    "print(df1.index)\n",
    "print(df2.values)\n",
    "print(df2.describe())\n",
    "print(df2.T)\n",
    "print(df2.sort_index(axis=0,ascending=False))\n",
    "print(df2.sort_values(by='D',ascending=False))"
   ],
   "metadata": {
    "collapsed": false,
    "pycharm": {
     "name": "#%%\n"
    }
   }
  },
  {
   "cell_type": "code",
   "execution_count": 75,
   "outputs": [
    {
     "data": {
      "text/plain": "             a   b   c   d\n2016-01-01   0   1   2   3\n2016-01-02   4   5   6   7\n2016-01-03   8   9  10  11\n2016-01-04  12  13  14  15\n2016-01-05  16  17  18  19\n2016-01-06  20  21  22  23",
      "text/html": "<div>\n<style scoped>\n    .dataframe tbody tr th:only-of-type {\n        vertical-align: middle;\n    }\n\n    .dataframe tbody tr th {\n        vertical-align: top;\n    }\n\n    .dataframe thead th {\n        text-align: right;\n    }\n</style>\n<table border=\"1\" class=\"dataframe\">\n  <thead>\n    <tr style=\"text-align: right;\">\n      <th></th>\n      <th>a</th>\n      <th>b</th>\n      <th>c</th>\n      <th>d</th>\n    </tr>\n  </thead>\n  <tbody>\n    <tr>\n      <th>2016-01-01</th>\n      <td>0</td>\n      <td>1</td>\n      <td>2</td>\n      <td>3</td>\n    </tr>\n    <tr>\n      <th>2016-01-02</th>\n      <td>4</td>\n      <td>5</td>\n      <td>6</td>\n      <td>7</td>\n    </tr>\n    <tr>\n      <th>2016-01-03</th>\n      <td>8</td>\n      <td>9</td>\n      <td>10</td>\n      <td>11</td>\n    </tr>\n    <tr>\n      <th>2016-01-04</th>\n      <td>12</td>\n      <td>13</td>\n      <td>14</td>\n      <td>15</td>\n    </tr>\n    <tr>\n      <th>2016-01-05</th>\n      <td>16</td>\n      <td>17</td>\n      <td>18</td>\n      <td>19</td>\n    </tr>\n    <tr>\n      <th>2016-01-06</th>\n      <td>20</td>\n      <td>21</td>\n      <td>22</td>\n      <td>23</td>\n    </tr>\n  </tbody>\n</table>\n</div>"
     },
     "execution_count": 75,
     "metadata": {},
     "output_type": "execute_result"
    }
   ],
   "source": [
    "df = pd.DataFrame(np.arange(24).reshape(6,4),index=dates,columns=['a','b','c','d'])\n",
    "df"
   ],
   "metadata": {
    "collapsed": false,
    "pycharm": {
     "name": "#%%\n"
    }
   }
  },
  {
   "cell_type": "code",
   "execution_count": 66,
   "outputs": [
    {
     "name": "stdout",
     "output_type": "stream",
     "text": [
      "2016-01-01    0\n",
      "2016-01-02    0\n",
      "2016-01-03    0\n",
      "2016-01-04    0\n",
      "2016-01-05    0\n",
      "2016-01-06    0\n",
      "Freq: D, Name: a, dtype: int32 2016-01-01    0\n",
      "2016-01-02    0\n",
      "2016-01-03    0\n",
      "2016-01-04    0\n",
      "2016-01-05    0\n",
      "2016-01-06    0\n",
      "Freq: D, Name: a, dtype: int32\n",
      "            a  b      c  d\n",
      "2016-01-01  0  1   2222  3\n",
      "2016-01-02  0  0      0  0\n",
      "2016-01-03  0  0  11111  0             a  b      c  d\n",
      "2016-01-01  0  1   2222  3\n",
      "2016-01-02  0  0      0  0\n",
      "2016-01-03  0  0  11111  0\n",
      "2016-01-04  0  0      0  0\n",
      "a       0\n",
      "b       1\n",
      "c    2222\n",
      "d       3\n",
      "Name: 2016-01-01 00:00:00, dtype: int32\n",
      "            a  b\n",
      "2016-01-01  0  1\n",
      "2016-01-02  0  0\n",
      "2016-01-03  0  0\n",
      "2016-01-04  0  0\n",
      "            b  c\n",
      "2016-01-02  0  0\n",
      "2016-01-04  0  0\n",
      "2016-01-06  0  0\n",
      "Empty DataFrame\n",
      "Columns: [a, b, c, d]\n",
      "Index: []\n"
     ]
    }
   ],
   "source": [
    "print(df['a'],df.a)\n",
    "print(df[0:3],df['20160101':'20160104'])\n",
    "print(df.loc['20160101'])\n",
    "print(df.loc['20160101':'20160104',['a','b']])\n",
    "print(df.iloc[[1,3,5],1:3])\n",
    "print(df[df.a>8])"
   ],
   "metadata": {
    "collapsed": false,
    "pycharm": {
     "name": "#%%\n"
    }
   }
  },
  {
   "cell_type": "code",
   "execution_count": 81,
   "outputs": [
    {
     "name": "stderr",
     "output_type": "stream",
     "text": [
      "C:\\Users\\Administrator\\AppData\\Local\\Temp\\ipykernel_2536\\2320678724.py:3: SettingWithCopyWarning: \n",
      "A value is trying to be set on a copy of a slice from a DataFrame\n",
      "\n",
      "See the caveats in the documentation: https://pandas.pydata.org/pandas-docs/stable/user_guide/indexing.html#returning-a-view-versus-a-copy\n",
      "  df.b[df.a>4] = 0\n"
     ]
    },
    {
     "data": {
      "text/plain": "             a  b      c   d   F   f   e\n2016-01-01   0  1   2222   3 NaN NaN   1\n2016-01-02   4  5      6   7 NaN NaN   2\n2016-01-03   8  0  11111  11 NaN NaN  45\n2016-01-04  12  0     14  15 NaN NaN   6\n2016-01-05  16  0     18  19 NaN NaN   3\n2016-01-06  20  0     22  23 NaN NaN   1",
      "text/html": "<div>\n<style scoped>\n    .dataframe tbody tr th:only-of-type {\n        vertical-align: middle;\n    }\n\n    .dataframe tbody tr th {\n        vertical-align: top;\n    }\n\n    .dataframe thead th {\n        text-align: right;\n    }\n</style>\n<table border=\"1\" class=\"dataframe\">\n  <thead>\n    <tr style=\"text-align: right;\">\n      <th></th>\n      <th>a</th>\n      <th>b</th>\n      <th>c</th>\n      <th>d</th>\n      <th>F</th>\n      <th>f</th>\n      <th>e</th>\n    </tr>\n  </thead>\n  <tbody>\n    <tr>\n      <th>2016-01-01</th>\n      <td>0</td>\n      <td>1</td>\n      <td>2222</td>\n      <td>3</td>\n      <td>NaN</td>\n      <td>NaN</td>\n      <td>1</td>\n    </tr>\n    <tr>\n      <th>2016-01-02</th>\n      <td>4</td>\n      <td>5</td>\n      <td>6</td>\n      <td>7</td>\n      <td>NaN</td>\n      <td>NaN</td>\n      <td>2</td>\n    </tr>\n    <tr>\n      <th>2016-01-03</th>\n      <td>8</td>\n      <td>0</td>\n      <td>11111</td>\n      <td>11</td>\n      <td>NaN</td>\n      <td>NaN</td>\n      <td>45</td>\n    </tr>\n    <tr>\n      <th>2016-01-04</th>\n      <td>12</td>\n      <td>0</td>\n      <td>14</td>\n      <td>15</td>\n      <td>NaN</td>\n      <td>NaN</td>\n      <td>6</td>\n    </tr>\n    <tr>\n      <th>2016-01-05</th>\n      <td>16</td>\n      <td>0</td>\n      <td>18</td>\n      <td>19</td>\n      <td>NaN</td>\n      <td>NaN</td>\n      <td>3</td>\n    </tr>\n    <tr>\n      <th>2016-01-06</th>\n      <td>20</td>\n      <td>0</td>\n      <td>22</td>\n      <td>23</td>\n      <td>NaN</td>\n      <td>NaN</td>\n      <td>1</td>\n    </tr>\n  </tbody>\n</table>\n</div>"
     },
     "execution_count": 81,
     "metadata": {},
     "output_type": "execute_result"
    }
   ],
   "source": [
    "df.iloc[2,2] = 11111\n",
    "df.loc['20160101','c'] = 2222\n",
    "df.b[df.a>4] = 0\n",
    "df['f'] = np.nan\n",
    "df['e'] = pd.Series([1,2,45,6,3,1],index=pd.date_range('20160101',periods=6))\n",
    "df"
   ],
   "metadata": {
    "collapsed": false,
    "pycharm": {
     "name": "#%%\n"
    }
   }
  },
  {
   "cell_type": "code",
   "execution_count": 93,
   "outputs": [
    {
     "name": "stdout",
     "output_type": "stream",
     "text": [
      "             a  b      c   d   e\n",
      "2016-01-01   0  1   2222   3   1\n",
      "2016-01-02   4  5      6   7   2\n",
      "2016-01-03   8  0  11111  11  45\n",
      "2016-01-04  12  0     14  15   6\n",
      "2016-01-05  16  0     18  19   3\n",
      "2016-01-06  20  0     22  23   1\n",
      "             a  b      c   d    F    f   e\n",
      "2016-01-01   0  1   2222   3  0.0  0.0   1\n",
      "2016-01-02   4  5      6   7  0.0  0.0   2\n",
      "2016-01-03   8  0  11111  11  0.0  0.0  45\n",
      "2016-01-04  12  0     14  15  0.0  0.0   6\n",
      "2016-01-05  16  0     18  19  0.0  0.0   3\n",
      "2016-01-06  20  0     22  23  0.0  0.0   1\n",
      "                a      b      c      d     F     f      e\n",
      "2016-01-01  False  False  False  False  True  True  False\n",
      "2016-01-02  False  False  False  False  True  True  False\n",
      "2016-01-03  False  False  False  False  True  True  False\n",
      "2016-01-04  False  False  False  False  True  True  False\n",
      "2016-01-05  False  False  False  False  True  True  False\n",
      "2016-01-06  False  False  False  False  True  True  False\n",
      "True\n"
     ]
    }
   ],
   "source": [
    "print(df.dropna(axis=1,how='all')) #how=['any','all']\n",
    "print(df.fillna(value=0))\n",
    "print(df.isnull())\n",
    "print(np.any(df.isna())==True)"
   ],
   "metadata": {
    "collapsed": false,
    "pycharm": {
     "name": "#%%\n"
    }
   }
  },
  {
   "cell_type": "code",
   "execution_count": 95,
   "outputs": [],
   "source": [
    "data = pd.read_csv('s2.csv')\n",
    "data.to_pickle('s4.pickle')\n"
   ],
   "metadata": {
    "collapsed": false,
    "pycharm": {
     "name": "#%%\n"
    }
   }
  },
  {
   "cell_type": "code",
   "execution_count": 112,
   "outputs": [
    {
     "name": "stdout",
     "output_type": "stream",
     "text": [
      "    0    1    2    3    4    5    6    7    8    9    10   11\n",
      "0  0.0  0.0  0.0  0.0  1.0  1.0  1.0  1.0  2.0  2.0  2.0  2.0\n",
      "1  0.0  0.0  0.0  0.0  1.0  1.0  1.0  1.0  2.0  2.0  2.0  2.0\n",
      "2  0.0  0.0  0.0  0.0  1.0  1.0  1.0  1.0  2.0  2.0  2.0  2.0\n"
     ]
    }
   ],
   "source": [
    "df0 = pd.DataFrame(np.ones((3,4))*0,columns=['a','b','c','d'])\n",
    "df1 = pd.DataFrame(np.ones((3,4))*1,columns=['a','b','c','d'])\n",
    "df2 = pd.DataFrame(np.ones((3,4))*2,columns=['a','b','c','d'])\n",
    "res = pd.concat([df0,df1,df2],axis=0,ignore_index=True)\n",
    "print(res)"
   ],
   "metadata": {
    "collapsed": false,
    "pycharm": {
     "name": "#%%\n"
    }
   }
  },
  {
   "cell_type": "code",
   "execution_count": 119,
   "outputs": [
    {
     "name": "stdout",
     "output_type": "stream",
     "text": [
      "     0    1    2    3    4    5    6    7\n",
      "2  2.0  2.0  2.0  2.0  3.0  3.0  3.0  3.0\n",
      "3  2.0  2.0  2.0  2.0  3.0  3.0  3.0  3.0\n",
      "     a    b    c    d    e\n",
      "0  2.0  2.0  2.0  2.0  NaN\n",
      "1  2.0  2.0  2.0  2.0  NaN\n",
      "2  2.0  2.0  2.0  2.0  NaN\n",
      "3  NaN  3.0  3.0  3.0  3.0\n",
      "4  NaN  3.0  3.0  3.0  3.0\n",
      "5  NaN  3.0  3.0  3.0  3.0\n",
      "6  2.0  2.0  2.0  2.0  NaN\n",
      "7  2.0  2.0  2.0  2.0  NaN\n",
      "8  2.0  2.0  2.0  2.0  NaN\n"
     ]
    },
    {
     "name": "stderr",
     "output_type": "stream",
     "text": [
      "C:\\Users\\Administrator\\AppData\\Local\\Temp\\ipykernel_2536\\3762329511.py:5: FutureWarning: The frame.append method is deprecated and will be removed from pandas in a future version. Use pandas.concat instead.\n",
      "  print(df0.append([df1,df2],ignore_index=True))\n"
     ]
    }
   ],
   "source": [
    "df0 = pd.DataFrame(np.ones((3,4))*2,columns=['a','b','c','d'],index=[1,2,3])\n",
    "df1 = pd.DataFrame(np.ones((3,4))*3,columns=['b','c','d','e'],index=[2,3,4])\n",
    "res = pd.concat([df0,df1],axis=1,ignore_index=True,join='inner')\n",
    "print(res)\n",
    "print(df0.append([df1,df2],ignore_index=True))"
   ],
   "metadata": {
    "collapsed": false,
    "pycharm": {
     "name": "#%%\n"
    }
   }
  },
  {
   "cell_type": "code",
   "execution_count": 121,
   "outputs": [
    {
     "name": "stdout",
     "output_type": "stream",
     "text": [
      "  key   a   b   c   d\n",
      "0  k0  a0  b0  c0  d0\n",
      "1  k1  a1  b1  c1  d1\n",
      "2  k2  a2  b2  c2  d2\n"
     ]
    }
   ],
   "source": [
    "left = pd.DataFrame({'key':['k0','k1','k2'],\n",
    "                     'a':['a0','a1','a2'],\n",
    "                     'b':['b0','b1','b2']})\n",
    "right = pd.DataFrame({'key':['k0','k1','k2'],\n",
    "                     'c':['c0','c1','c2'],\n",
    "                     'd':['d0','d1','d2']})\n",
    "res = pd.merge(left,right,on='key')\n",
    "print(res)"
   ],
   "metadata": {
    "collapsed": false,
    "pycharm": {
     "name": "#%%\n"
    }
   }
  },
  {
   "cell_type": "code",
   "execution_count": 137,
   "outputs": [
    {
     "name": "stdout",
     "output_type": "stream",
     "text": [
      "  key1 key2   a   b    c    d          g\n",
      "0   k0   k0  a0  b0   c0   d0       both\n",
      "1   k0   k1  a1  b1  NaN  NaN  left_only\n",
      "2   k1   k0  a2  b2   c1   d1       both\n",
      "3   k1   k0  a2  b2   c2   d2       both\n",
      "4   k1   k0  a2  b2   c3   d3       both\n",
      "5   k1   k0  a3  b3   c1   d1       both\n",
      "6   k1   k0  a3  b3   c2   d2       both\n",
      "7   k1   k0  a3  b3   c3   d3       both\n",
      "   key1_x key2_x   a   b key1_y key2_y   c   d     g\n",
      "i0     k0     k0  a0  b0     k0     k0  c0  d0  both\n",
      "i1     k0     k1  a1  b1     k1     k0  c1  d1  both\n",
      "i2     k1     k0  a2  b2     k1     k0  c2  d2  both\n",
      "i3     k1     k0  a3  b3     k1     k0  c3  d3  both\n"
     ]
    }
   ],
   "source": [
    "left = pd.DataFrame({'key1':['k0','k0','k1','k1'],\n",
    "                     'key2':['k0','k1','k0','k0'],\n",
    "                     'a':['a0','a1','a2','a3'],\n",
    "                     'b':['b0','b1','b2','b3']},index=['i0','i1','i2','i3'])\n",
    "right = pd.DataFrame({'key1':['k0','k1','k1','k1'],\n",
    "                      'key2':['k0','k0','k0','k0'],\n",
    "                     'c':['c0','c1','c2','c3'],\n",
    "                     'd':['d0','d1','d2','d3']},index=['i0','i1','i2','i3'])\n",
    "res = pd.merge(left,right,on=['key1','key2'],how='left',indicator='g')\n",
    "print(res)\n",
    "res = pd.merge(left,right,left_index=True,right_index=True,how='outer',indicator='g')\n",
    "print(res)"
   ],
   "metadata": {
    "collapsed": false,
    "pycharm": {
     "name": "#%%\n"
    }
   }
  },
  {
   "cell_type": "code",
   "execution_count": 144,
   "outputs": [
    {
     "name": "stdout",
     "output_type": "stream",
     "text": [
      "  key1  age_x  age_y\n",
      "0   k0    4.0    1.0\n",
      "1   k0    4.0    2.0\n",
      "2   k0    5.0    1.0\n",
      "3   k0    5.0    2.0\n",
      "4   k1    6.0    NaN\n",
      "5   k3    NaN    3.0\n",
      "  key1  age_boy  age_girl\n",
      "0   k0      4.0       1.0\n",
      "1   k0      4.0       2.0\n",
      "2   k0      5.0       1.0\n",
      "3   k0      5.0       2.0\n",
      "4   k1      6.0       NaN\n",
      "5   k3      NaN       3.0\n"
     ]
    }
   ],
   "source": [
    "left = pd.DataFrame({'key1':['k0','k0','k1'],'age':[4,5,6]})\n",
    "right = pd.DataFrame({'key1':['k0','k0','k3'],'age':[1,2,3]})\n",
    "res =  pd.merge(left,right,on='key1',how='outer')\n",
    "print(res)\n",
    "res =  pd.merge(left,right,on='key1',how='outer',suffixes=['_boy','_girl'])\n",
    "print(res)"
   ],
   "metadata": {
    "collapsed": false,
    "pycharm": {
     "name": "#%%\n"
    }
   }
  },
  {
   "cell_type": "code",
   "execution_count": 159,
   "outputs": [
    {
     "data": {
      "text/plain": "<AxesSubplot:xlabel='key1', ylabel='age'>"
     },
     "execution_count": 159,
     "metadata": {},
     "output_type": "execute_result"
    },
    {
     "data": {
      "text/plain": "<Figure size 432x288 with 1 Axes>",
      "image/png": "[encoded data removed]"
     },
     "metadata": {
      "needs_background": "light"
     },
     "output_type": "display_data"
    },
    {
     "data": {
      "text/plain": "<Figure size 432x288 with 1 Axes>",
      "image/png": "[encoded data removed]"
     },
     "metadata": {
      "needs_background": "light"
     },
     "output_type": "display_data"
    },
    {
     "data": {
      "text/plain": "<Figure size 432x288 with 1 Axes>",
      "image/png": "[encoded data removed]"
     },
     "metadata": {
      "needs_background": "light"
     },
     "output_type": "display_data"
    }
   ],
   "source": [
    "d = pd.Series(np.random.randn(1000),index=np.arange(1000))\n",
    "d = d.cumsum()\n",
    "d.plot()\n",
    "a = left.plot.scatter('key1','age',color='Black',label = 'class 1')\n",
    "right.plot.scatter('key1','age',color='red',label = 'class 2',ax = a)"
   ],
   "metadata": {
    "collapsed": false,
    "pycharm": {
     "name": "#%%\n"
    }
   }
  }
 ],
 "metadata": {
  "kernelspec": {
   "display_name": "Python 3",
   "language": "python",
   "name": "python3"
  },
  "language_info": {
   "codemirror_mode": {
    "name": "ipython",
    "version": 2
   },
   "file_extension": ".py",
   "mimetype": "text/x-python",
   "name": "python",
   "nbconvert_exporter": "python",
   "pygments_lexer": "ipython2",
   "version": "2.7.6"
  }
 },
 "nbformat": 4,
 "nbformat_minor": 0
}