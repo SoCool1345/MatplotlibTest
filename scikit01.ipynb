{
 "cells": [
  {
   "cell_type": "code",
   "execution_count": 10,
   "metadata": {
    "collapsed": true
   },
   "outputs": [],
   "source": [
    "import numpy as np\n",
    "from sklearn import datasets\n",
    "from sklearn.model_selection import train_test_split\n",
    "from sklearn.neighbors import KNeighborsClassifier\n",
    "from sklearn.linear_model import LinearRegression\n",
    "import matplotlib.pyplot as plt\n",
    "from sklearn import preprocessing\n",
    "from sklearn.datasets._samples_generator import make_classification\n",
    "from sklearn.svm import SVC\n",
    "from sklearn.model_selection import cross_val_score\n",
    "from sklearn.model_selection import learning_curve\n",
    "from sklearn.model_selection import validation_curve\n",
    "from sklearn.datasets import load_digits\n",
    "from sklearn import svm\n",
    "import pickle\n",
    "import joblib"
   ]
  },
  {
   "cell_type": "code",
   "execution_count": null,
   "outputs": [],
   "source": [
    "iris = datasets.load_iris()\n",
    "iris_X = iris.data\n",
    "iris_Y = iris.target\n",
    "X_train,X_test,Y_train,Y_test = train_test_split(iris_X,iris_Y,test_size=0.3)\n",
    "\n",
    "\n",
    "knn = KNeighborsClassifier(n_neighbors=5)\n",
    "knn.fit(X_train,Y_train)\n",
    "\n",
    "print(knn.score(X_test,Y_test))\n",
    "print(knn.predict(X_test))\n",
    "print(Y_test)\n",
    "\n",
    "#交叉验证\n",
    "k_range = range(1,31)\n",
    "k_scores = []\n",
    "\n",
    "for k in k_range:\n",
    "    knn = KNeighborsClassifier(n_neighbors=k)\n",
    "    scores = cross_val_score(knn,iris_X,iris_Y,cv=10,scoring='accuracy')\n",
    "    loss = -cross_val_score(knn,iris_X,iris_Y,cv=10,scoring='neg_mean_squared_error')\n",
    "    k_scores.append(loss.mean())\n",
    "\n",
    "print(k_scores)\n",
    "plt.plot(k_range,k_scores)"
   ],
   "metadata": {
    "collapsed": false,
    "pycharm": {
     "name": "#%%\n"
    }
   }
  },
  {
   "cell_type": "code",
   "execution_count": 13,
   "outputs": [
    {
     "name": "stdout",
     "output_type": "stream",
     "text": [
      "[-1.08011358e-01  4.64204584e-02  2.05586264e-02  2.68673382e+00\n",
      " -1.77666112e+01  3.80986521e+00  6.92224640e-04 -1.47556685e+00\n",
      "  3.06049479e-01 -1.23345939e-02 -9.52747232e-01  9.31168327e-03\n",
      " -5.24758378e-01]\n",
      "36.45948838509001\n",
      "{'copy_X': True, 'fit_intercept': True, 'n_jobs': None, 'normalize': 'deprecated', 'positive': False}\n",
      "0.7406426641094094\n",
      "[30.00384338 25.02556238 30.56759672 28.60703649]\n",
      "[24.  21.6 34.7 33.4]\n"
     ]
    },
    {
     "name": "stderr",
     "output_type": "stream",
     "text": [
      "D:\\PythonProject\\lib\\site-packages\\sklearn\\utils\\deprecation.py:87: FutureWarning: Function load_boston is deprecated; `load_boston` is deprecated in 1.0 and will be removed in 1.2.\n",
      "\n",
      "    The Boston housing prices dataset has an ethical problem. You can refer to\n",
      "    the documentation of this function for further details.\n",
      "\n",
      "    The scikit-learn maintainers therefore strongly discourage the use of this\n",
      "    dataset unless the purpose of the code is to study and educate about\n",
      "    ethical issues in data science and machine learning.\n",
      "\n",
      "    In this special case, you can fetch the dataset from the original\n",
      "    source::\n",
      "\n",
      "        import pandas as pd\n",
      "        import numpy as np\n",
      "\n",
      "\n",
      "        data_url = \"http://lib.stat.cmu.edu/datasets/boston\"\n",
      "        raw_df = pd.read_csv(data_url, sep=\"\\s+\", skiprows=22, header=None)\n",
      "        data = np.hstack([raw_df.values[::2, :], raw_df.values[1::2, :2]])\n",
      "        target = raw_df.values[1::2, 2]\n",
      "\n",
      "    Alternative datasets include the California housing dataset (i.e.\n",
      "    :func:`~sklearn.datasets.fetch_california_housing`) and the Ames housing\n",
      "    dataset. You can load the datasets as follows::\n",
      "\n",
      "        from sklearn.datasets import fetch_california_housing\n",
      "        housing = fetch_california_housing()\n",
      "\n",
      "    for the California housing dataset and::\n",
      "\n",
      "        from sklearn.datasets import fetch_openml\n",
      "        housing = fetch_openml(name=\"house_prices\", as_frame=True)\n",
      "\n",
      "    for the Ames housing dataset.\n",
      "    \n",
      "  warnings.warn(msg, category=FutureWarning)\n"
     ]
    }
   ],
   "source": [
    "loaded_data = datasets.load_boston()\n",
    "\n",
    "data_X = loaded_data.data\n",
    "data_Y = loaded_data.target\n",
    "model = LinearRegression()\n",
    "model.fit(data_X,data_Y)\n",
    "print(model.coef_) #weight\n",
    "print(model.intercept_) #bias\n",
    "\n",
    "print(model.get_params()) #定义的参数\n",
    "print(model.score(data_X,data_Y)) #预测吻合度 coefficient of determination\n",
    "\n",
    "print(model.predict(data_X[:4,:]))\n",
    "print(data_Y[:4])"
   ],
   "metadata": {
    "collapsed": false,
    "pycharm": {
     "name": "#%%\n"
    }
   }
  },
  {
   "cell_type": "code",
   "execution_count": 8,
   "outputs": [
    {
     "data": {
      "text/plain": "<matplotlib.collections.PathCollection at 0x2837f792fa0>"
     },
     "execution_count": 8,
     "metadata": {},
     "output_type": "execute_result"
    },
    {
     "data": {
      "text/plain": "<Figure size 432x288 with 1 Axes>",
      "image/png": "[encoded data removed]"
     },
     "metadata": {
      "needs_background": "light"
     },
     "output_type": "display_data"
    }
   ],
   "source": [
    "X,Y = datasets.make_regression(n_samples=100,n_features=1,n_targets=1,noise=1)\n",
    "plt.scatter(X,Y)\n"
   ],
   "metadata": {
    "collapsed": false,
    "pycharm": {
     "name": "#%%\n"
    }
   }
  },
  {
   "cell_type": "code",
   "execution_count": 18,
   "outputs": [
    {
     "name": "stdout",
     "output_type": "stream",
     "text": [
      "[[ 0.         -0.85170713 -0.55138018]\n",
      " [-1.22474487 -0.55187146 -0.852133  ]\n",
      " [ 1.22474487  1.40357859  1.40351318]]\n"
     ]
    }
   ],
   "source": [
    "a = np.array([[10,2.7,3.6],\n",
    "              [-100,5,-2],\n",
    "              [120,20,40]],dtype=np.float64)\n",
    "print(preprocessing.scale(a))"
   ],
   "metadata": {
    "collapsed": false,
    "pycharm": {
     "name": "#%%\n"
    }
   }
  },
  {
   "cell_type": "code",
   "execution_count": 27,
   "outputs": [
    {
     "name": "stdout",
     "output_type": "stream",
     "text": [
      "0.9777777777777777\n"
     ]
    },
    {
     "data": {
      "text/plain": "<Figure size 432x288 with 1 Axes>",
      "image/png": "[encoded data removed]"
     },
     "metadata": {
      "needs_background": "light"
     },
     "output_type": "display_data"
    }
   ],
   "source": [
    "X,Y = make_classification(n_samples=300,n_features=2,n_redundant=0,n_informative=2,random_state=22,n_clusters_per_class=1,scale=100)\n",
    "X_train,X_test,Y_train,Y_test = train_test_split(X,Y,test_size=0.3)\n",
    "\n",
    "plt.scatter(X[:,0],X[:,1],c=Y)\n",
    "\n",
    "X = preprocessing.scale(X)\n",
    "df = SVC()\n",
    "df.fit(X_train,Y_train)\n",
    "print(df.score(X_test,Y_test))\n"
   ],
   "metadata": {
    "collapsed": false,
    "pycharm": {
     "name": "#%%\n"
    }
   }
  },
  {
   "cell_type": "code",
   "execution_count": null,
   "outputs": [],
   "source": [
    "#记录不同train_sizes下loss值\n",
    "digits = load_digits()\n",
    "X = digits.data\n",
    "Y = digits.target\n",
    "train_sizes,train_loss,test_loss = learning_curve(SVC(gamma=0.001),X,Y,\n",
    "                                                  cv=10,scoring='neg_mean_squared_error',train_sizes=[0.1,0.25,0.5,0.75,1])\n",
    "\n",
    "\n",
    "print(X,Y)\n",
    "train_loss_mean = -np.mean(train_loss,axis=1)\n",
    "test_loss_mean = -np.mean(test_loss,axis=1)\n",
    "\n",
    "plt.plot(train_sizes,train_loss_mean,'o-',color='r',label = 'Training')\n",
    "plt.plot(train_sizes,test_loss_mean,'o-',color='g',label = 'testing')\n",
    "plt.legend()"
   ],
   "metadata": {
    "collapsed": false,
    "pycharm": {
     "name": "#%%\n"
    }
   }
  },
  {
   "cell_type": "code",
   "execution_count": 2,
   "outputs": [
    {
     "name": "stdout",
     "output_type": "stream",
     "text": [
      "[1.00000000e-06 8.41395142e-06 7.07945784e-05 5.95662144e-04\n",
      " 5.01187234e-03]\n",
      "[[ 0.  0.  5. ...  0.  0.  0.]\n",
      " [ 0.  0.  0. ... 10.  0.  0.]\n",
      " [ 0.  0.  0. ... 16.  9.  0.]\n",
      " ...\n",
      " [ 0.  0.  1. ...  6.  0.  0.]\n",
      " [ 0.  0.  2. ... 12.  0.  0.]\n",
      " [ 0.  0. 10. ... 12.  1.  0.]] [0 1 2 ... 8 9 8]\n"
     ]
    },
    {
     "data": {
      "text/plain": "<matplotlib.legend.Legend at 0x20e7b038310>"
     },
     "execution_count": 2,
     "metadata": {},
     "output_type": "execute_result"
    },
    {
     "data": {
      "text/plain": "<Figure size 432x288 with 1 Axes>",
      "image/png": "[encoded data removed]"
     },
     "metadata": {
      "needs_background": "light"
     },
     "output_type": "display_data"
    }
   ],
   "source": [
    "#寻找最优参数\n",
    "digits = load_digits()\n",
    "X = digits.data\n",
    "Y = digits.target\n",
    "#动态gamma参数\n",
    "param_range = np.logspace(-6,-2.3,5)\n",
    "print(param_range)\n",
    "train_loss,test_loss = validation_curve(SVC(),X,Y,param_name='gamma',param_range=param_range,\n",
    "                                        cv=10,scoring='neg_mean_squared_error')\n",
    "\n",
    "\n",
    "print(X,Y)\n",
    "train_loss_mean = -np.mean(train_loss,axis=1)\n",
    "test_loss_mean = -np.mean(test_loss,axis=1)\n",
    "\n",
    "plt.plot(param_range,train_loss_mean,'o-',color='r',label = 'Training')\n",
    "plt.plot(param_range,test_loss_mean,'o-',color='g',label = 'testing')\n",
    "plt.legend()"
   ],
   "metadata": {
    "collapsed": false,
    "pycharm": {
     "name": "#%%\n"
    }
   }
  },
  {
   "cell_type": "code",
   "execution_count": 12,
   "outputs": [
    {
     "name": "stdout",
     "output_type": "stream",
     "text": [
      "[0]\n"
     ]
    }
   ],
   "source": [
    "#保存model\n",
    "iris = datasets.load_iris()\n",
    "iris_X = iris.data\n",
    "iris_Y = iris.target\n",
    "\n",
    "clf = svm.SVC()\n",
    "clf.fit(iris_X,iris_Y)\n",
    "#保存为pickel\n",
    "# with open('save/clf.pickle','wb') as f: #write bytes\n",
    "#     pickle.dump(clf,f)\n",
    "\n",
    "# with open('save/clf.pickle','rb') as f: #read bytes\n",
    "#     clf2 = pickle.load(f)\n",
    "#     print(clf2.predict(iris_X[0:1]))\n",
    "\n",
    "#保存为joblib  推荐\n",
    "joblib.dump(clf,'save/clf.pkl')\n",
    "clf3 = joblib.load('save/clf.pkl')\n",
    "print(clf3.predict(iris_X[0:1]))"
   ],
   "metadata": {
    "collapsed": false,
    "pycharm": {
     "name": "#%%\n"
    }
   }
  }
 ],
 "metadata": {
  "kernelspec": {
   "display_name": "Python 3",
   "language": "python",
   "name": "python3"
  },
  "language_info": {
   "codemirror_mode": {
    "name": "ipython",
    "version": 2
   },
   "file_extension": ".py",
   "mimetype": "text/x-python",
   "name": "python",
   "nbconvert_exporter": "python",
   "pygments_lexer": "ipython2",
   "version": "2.7.6"
  }
 },
 "nbformat": 4,
 "nbformat_minor": 0
}